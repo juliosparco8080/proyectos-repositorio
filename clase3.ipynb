{
 "cells": [
  {
   "cell_type": "markdown",
   "id": "2d0c8e41",
   "metadata": {},
   "source": [
    "# tipos de variables"
   ]
  },
  {
   "cell_type": "markdown",
   "id": "efc05ca8",
   "metadata": {},
   "source": [
    "## Variables basicas"
   ]
  },
  {
   "cell_type": "code",
   "execution_count": null,
   "id": "de9e2360",
   "metadata": {},
   "outputs": [],
   "source": [
    "# almacenando 1 valor \n",
    "#Entero\n",
    "a = 10\n",
    "# flotante\n",
    "b = 10.5\n",
    "# cadena\n",
    "c = \"hola\"\n",
    "#booleano\n",
    "d = True\n"
   ]
  },
  {
   "cell_type": "markdown",
   "id": "5442ac5e",
   "metadata": {},
   "source": [
    "### Maneras  de dar formato a una impresion"
   ]
  },
  {
   "cell_type": "code",
   "execution_count": 13,
   "id": "b96eb9d5",
   "metadata": {},
   "outputs": [
    {
     "name": "stdout",
     "output_type": "stream",
     "text": [
      "El valor de a es: 10\n",
      "El valor de b es: 10.5\n"
     ]
    }
   ],
   "source": [
    "# Formato de impresión normal\n",
    "print(\"El valor de a es:\", a)\n",
    "\n",
    "# Formato de impresión con f-string\n",
    "print(f\"El valor de b es: {b}\")"
   ]
  },
  {
   "cell_type": "code",
   "execution_count": 12,
   "id": "0daa4f6d",
   "metadata": {},
   "outputs": [
    {
     "name": "stdout",
     "output_type": "stream",
     "text": [
      "el valor de a es: 10 y su tipo de datos es : <class 'int'>\n",
      "el valor de b es: 10.5 y su tipo de datos es:<class 'float'>\n"
     ]
    }
   ],
   "source": [
    "#formato  de impresion normal\n",
    "print(\"el valor de a es:\",a, \"y su tipo de datos es :\",type(a))\n",
    "#formato de impresion con  f-string\n",
    "print(f\"el valor de b es: {b} y su tipo de datos es:{type(b)}\")"
   ]
  },
  {
   "cell_type": "code",
   "execution_count": 15,
   "id": "b6cadc35",
   "metadata": {},
   "outputs": [
    {
     "name": "stdout",
     "output_type": "stream",
     "text": [
      "El valor de a es: 10 y su tipo de datos es: <class 'int'>\n",
      "El valor de b es: 10.5 y su tipo de datos es: <class 'float'>\n",
      "El valor de c es: hola y su tipo de datos es: <class 'str'>\n"
     ]
    }
   ],
   "source": [
    "# 1. Formato de impresión normal\n",
    "print(\"El valor de a es:\", a, \"y su tipo de datos es:\", type(a))\n",
    "\n",
    "# 2. Formato de impresión con f-string\n",
    "print(f\"El valor de b es: {b} y su tipo de datos es: {type(b)}\")\n",
    "\n",
    "# 3. Formato de impresión usando format\n",
    "print(\"El valor de c es: {} y su tipo de datos es: {}\".format(c, type(c)))"
   ]
  },
  {
   "cell_type": "markdown",
   "id": "5f68f992",
   "metadata": {},
   "source": [
    "## variables que almacenan multiples valores"
   ]
  },
  {
   "cell_type": "code",
   "execution_count": 19,
   "id": "432f9aa6",
   "metadata": {},
   "outputs": [
    {
     "name": "stdout",
     "output_type": "stream",
     "text": [
      "los valores de la lista:[1, 2, 3, 4, 5]\n",
      "la variable lista es tipo <class 'list'>\n"
     ]
    }
   ],
   "source": [
    "#listas\n",
    "lista =[1,2,3,4,5]\n",
    "print(f\"los valores de la lista:{lista}\")\n",
    "print(f\"la variable lista es tipo\", type(lista))\n"
   ]
  },
  {
   "cell_type": "code",
   "execution_count": 1,
   "id": "fe079580",
   "metadata": {},
   "outputs": [
    {
     "name": "stdout",
     "output_type": "stream",
     "text": [
      "los valores de la lista:(1, 2, 3, 4, 5)\n",
      "la variable lista es tipo <class 'tuple'>\n"
     ]
    }
   ],
   "source": [
    "#TUPLA - no modificables\n",
    "A =(1,2,3,4,5)\n",
    "print(f\"los valores de la lista:{A}\")\n",
    "print(f\"la variable lista es tipo\", type(A))"
   ]
  },
  {
   "cell_type": "code",
   "execution_count": 1,
   "id": "510de5fc",
   "metadata": {},
   "outputs": [
    {
     "name": "stdout",
     "output_type": "stream",
     "text": [
      "los valores del diccionario son:{'nombre': 'juan', 'edad': 30, 'altura': 1.75, 'deudas': False, 'ciudad': 'madrid'}\n",
      "la variable diccionario es tipo <class 'dict'>\n"
     ]
    }
   ],
   "source": [
    "#Diccionario\n",
    "diccionario ={\n",
    "    #clave : valor\n",
    "    \"nombre\":\"juan\",\n",
    "    \"edad\":30,\n",
    "    \"altura\":1.75,\n",
    "    \"deudas\":False,\n",
    "    \"ciudad\":\"madrid\"\n",
    "}\n",
    "print(f\"los valores del diccionario son:{diccionario}\")\n",
    "print(f\"la variable diccionario es tipo\", type(diccionario))\n",
    "\n"
   ]
  },
  {
   "cell_type": "code",
   "execution_count": 10,
   "id": "cfd1f1f8",
   "metadata": {},
   "outputs": [
    {
     "name": "stdout",
     "output_type": "stream",
     "text": [
      "los valores de la tabla son:  nombre  edad  altura  deudas     ciudad\n",
      "0   juan    30    1.75   False     madrid\n",
      "1  pedro    25    1.80    True  barcelona\n",
      "2  maria    28    1.70   False   valencia\n"
     ]
    }
   ],
   "source": [
    "#dataframe\n",
    "#importando libreria pandas\n",
    "import pandas as pd\n",
    "\n",
    "diccionario ={\n",
    "    #clave : valor      \n",
    "    \"nombre\":[\"juan\",\"pedro\",\"maria\"],\n",
    "    \"edad\":[30,25,28],\n",
    "    \"altura\":[1.75,1.80,1.70],\n",
    "    \"deudas\":[False,True,False],\n",
    "    \"ciudad\":[\"madrid\",\"barcelona\",\"valencia\"]\n",
    "}\n",
    "\n",
    "tabla = pd.DataFrame(diccionario)\n",
    "print(f\"los valores de la tabla son:{tabla}\")\n",
    "\n",
    "\n",
    "\n",
    "\n",
    "\n",
    "\n",
    "\n"
   ]
  }
 ],
 "metadata": {
  "kernelspec": {
   "display_name": "entorno",
   "language": "python",
   "name": "python3"
  },
  "language_info": {
   "codemirror_mode": {
    "name": "ipython",
    "version": 3
   },
   "file_extension": ".py",
   "mimetype": "text/x-python",
   "name": "python",
   "nbconvert_exporter": "python",
   "pygments_lexer": "ipython3",
   "version": "3.13.3"
  }
 },
 "nbformat": 4,
 "nbformat_minor": 5
}
